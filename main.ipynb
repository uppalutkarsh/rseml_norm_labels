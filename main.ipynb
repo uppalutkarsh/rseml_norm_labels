{
 "cells": [
  {
   "cell_type": "code",
   "execution_count": null,
   "metadata": {
    "colab": {
     "base_uri": "https://localhost:8080/",
     "height": 34
    },
    "executionInfo": {
     "elapsed": 39291,
     "status": "ok",
     "timestamp": 1602000741737,
     "user": {
      "displayName": "bharat giddwani",
      "photoUrl": "https://lh3.googleusercontent.com/a-/AOh14Gjk5H1KIh8m4N5dPx0TrIfH4ASn21EVXxPGR7aIEQ=s64",
      "userId": "02039544511488355667"
     },
     "user_tz": -330
    },
    "id": "jMvZ7skF5VMs",
    "outputId": "0e4b48a3-97a2-42e3-e9e5-9e70f903cd0a"
   },
   "outputs": [
    {
     "name": "stdout",
     "output_type": "stream",
     "text": [
      "Mounted at /content/drive\n"
     ]
    }
   ],
   "source": [
    "from google.colab import drive\n",
    "drive.mount('/content/drive')"
   ]
  },
  {
   "cell_type": "code",
   "execution_count": null,
   "metadata": {
    "colab": {
     "base_uri": "https://localhost:8080/",
     "height": 122
    },
    "executionInfo": {
     "elapsed": 12185,
     "status": "ok",
     "timestamp": 1602002270896,
     "user": {
      "displayName": "bharat giddwani",
      "photoUrl": "https://lh3.googleusercontent.com/a-/AOh14Gjk5H1KIh8m4N5dPx0TrIfH4ASn21EVXxPGR7aIEQ=s64",
      "userId": "02039544511488355667"
     },
     "user_tz": -330
    },
    "id": "bCsx7zL_8Vdv",
    "outputId": "f2f374a5-1c07-4439-d3ba-a4a49ba17e9a"
   },
   "outputs": [
    {
     "name": "stdout",
     "output_type": "stream",
     "text": [
      "To train and eval on climate dataset......\n",
      "==> Building model.. ce/pc_resnet34/\n",
      "/usr/local/lib/python3.6/dist-packages/sklearn/metrics/_classification.py:1272: UndefinedMetricWarning: Recall is ill-defined and being set to 0.0 in labels with no true samples. Use `zero_division` parameter to control this behavior.\n",
      "  _warn_prf(average, modifier, msg_start, len(result))\n",
      "79.01785714285714 0.9199279487391029 0.8011111111111111 0.8492908870240204\n"
     ]
    }
   ],
   "source": [
    "!python3 eval.py"
   ]
  },
  {
   "cell_type": "code",
   "execution_count": null,
   "metadata": {
    "colab": {
     "base_uri": "https://localhost:8080/",
     "height": 241
    },
    "executionInfo": {
     "elapsed": 6393,
     "status": "ok",
     "timestamp": 1601997089196,
     "user": {
      "displayName": "bharat giddwani",
      "photoUrl": "https://lh3.googleusercontent.com/a-/AOh14Gjk5H1KIh8m4N5dPx0TrIfH4ASn21EVXxPGR7aIEQ=s64",
      "userId": "02039544511488355667"
     },
     "user_tz": -330
    },
    "id": "BHSSsOJpAME3",
    "outputId": "5b5fbe47-a12c-4de6-fd5b-d3ca1ac55f62"
   },
   "outputs": [
    {
     "name": "stdout",
     "output_type": "stream",
     "text": [
      "Collecting efficientnet_pytorch\n",
      "  Downloading https://files.pythonhosted.org/packages/4e/83/f9c5f44060f996279e474185ebcbd8dbd91179593bffb9abe3afa55d085b/efficientnet_pytorch-0.7.0.tar.gz\n",
      "Requirement already satisfied: torch in /usr/local/lib/python3.6/dist-packages (from efficientnet_pytorch) (1.6.0+cu101)\n",
      "Requirement already satisfied: future in /usr/local/lib/python3.6/dist-packages (from torch->efficientnet_pytorch) (0.16.0)\n",
      "Requirement already satisfied: numpy in /usr/local/lib/python3.6/dist-packages (from torch->efficientnet_pytorch) (1.18.5)\n",
      "Building wheels for collected packages: efficientnet-pytorch\n",
      "  Building wheel for efficientnet-pytorch (setup.py) ... \u001b[?25l\u001b[?25hdone\n",
      "  Created wheel for efficientnet-pytorch: filename=efficientnet_pytorch-0.7.0-cp36-none-any.whl size=16031 sha256=370dd3e72f535dc95ff2ef6563d99d5cdfca51286993bdab02f70337401f4aa8\n",
      "  Stored in directory: /root/.cache/pip/wheels/e9/c6/e1/7a808b26406239712cfce4b5ceeb67d9513ae32aa4b31445c6\n",
      "Successfully built efficientnet-pytorch\n",
      "Installing collected packages: efficientnet-pytorch\n",
      "Successfully installed efficientnet-pytorch-0.7.0\n"
     ]
    }
   ],
   "source": [
    "! pip install efficientnet_pytorch"
   ]
  },
  {
   "cell_type": "code",
   "execution_count": null,
   "metadata": {
    "colab": {
     "base_uri": "https://localhost:8080/",
     "height": 901
    },
    "executionInfo": {
     "elapsed": 488876,
     "status": "ok",
     "timestamp": 1602009712926,
     "user": {
      "displayName": "bharat giddwani",
      "photoUrl": "https://lh3.googleusercontent.com/a-/AOh14Gjk5H1KIh8m4N5dPx0TrIfH4ASn21EVXxPGR7aIEQ=s64",
      "userId": "02039544511488355667"
     },
     "user_tz": -330
    },
    "id": "ZJpqn6iTWfac",
    "outputId": "7e8d147b-e597-44fe-aef1-76bda12689ab"
   },
   "outputs": [
    {
     "name": "stdout",
     "output_type": "stream",
     "text": [
      "To train and eval on climate dataset......\n",
      "==> Building model.. lce/1resnet50/\n",
      "Epoch: 0 Accuracy: 21.428571 % Best Accuracy: 0 lr: 0.1\n",
      "Epoch: 1 Accuracy: 44.196429 % Best Accuracy: 21.428571428571427 lr: 0.1\n",
      "Epoch: 2 Accuracy: 50.892857 % Best Accuracy: 44.19642857142857 lr: 0.1\n",
      "Epoch: 3 Accuracy: 39.285714 % Best Accuracy: 50.892857142857146 lr: 0.1\n",
      "Epoch: 4 Accuracy: 50.892857 % Best Accuracy: 50.892857142857146 lr: 0.1\n",
      "Epoch: 5 Accuracy: 38.392857 % Best Accuracy: 50.892857142857146 lr: 0.1\n",
      "Epoch: 6 Accuracy: 46.875000 % Best Accuracy: 50.892857142857146 lr: 0.1\n",
      "Epoch: 7 Accuracy: 62.053571 % Best Accuracy: 50.892857142857146 lr: 0.1\n",
      "Epoch: 8 Accuracy: 44.642857 % Best Accuracy: 62.05357142857143 lr: 0.1\n",
      "Epoch: 9 Accuracy: 62.500000 % Best Accuracy: 62.05357142857143 lr: 0.1\n",
      "Epoch: 10 Accuracy: 57.589286 % Best Accuracy: 62.5 lr: 0.1\n",
      "Epoch: 11 Accuracy: 66.517857 % Best Accuracy: 62.5 lr: 0.1\n",
      "Epoch: 12 Accuracy: 62.500000 % Best Accuracy: 66.51785714285714 lr: 0.1\n",
      "Epoch: 13 Accuracy: 72.321429 % Best Accuracy: 66.51785714285714 lr: 0.1\n",
      "Epoch: 14 Accuracy: 71.428571 % Best Accuracy: 72.32142857142857 lr: 0.1\n",
      "Epoch: 15 Accuracy: 72.321429 % Best Accuracy: 72.32142857142857 lr: 0.1\n",
      "Epoch: 16 Accuracy: 51.785714 % Best Accuracy: 72.32142857142857 lr: 0.1\n",
      "Epoch: 17 Accuracy: 70.535714 % Best Accuracy: 72.32142857142857 lr: 0.1\n",
      "Epoch: 18 Accuracy: 66.071429 % Best Accuracy: 72.32142857142857 lr: 0.1\n",
      "Epoch: 19 Accuracy: 70.089286 % Best Accuracy: 72.32142857142857 lr: 0.010000000000000002\n",
      "Epoch: 20 Accuracy: 72.767857 % Best Accuracy: 72.32142857142857 lr: 0.010000000000000002\n",
      "Epoch: 21 Accuracy: 73.214286 % Best Accuracy: 72.76785714285714 lr: 0.010000000000000002\n",
      "Epoch: 22 Accuracy: 72.767857 % Best Accuracy: 73.21428571428571 lr: 0.010000000000000002\n",
      "Epoch: 23 Accuracy: 73.660714 % Best Accuracy: 73.21428571428571 lr: 0.010000000000000002\n",
      "Epoch: 24 Accuracy: 73.214286 % Best Accuracy: 73.66071428571429 lr: 0.010000000000000002\n",
      "Epoch: 25 Accuracy: 72.767857 % Best Accuracy: 73.66071428571429 lr: 0.010000000000000002\n",
      "Epoch: 26 Accuracy: 73.660714 % Best Accuracy: 73.66071428571429 lr: 0.010000000000000002\n",
      "Epoch: 27 Accuracy: 74.107143 % Best Accuracy: 73.66071428571429 lr: 0.010000000000000002\n",
      "Epoch: 28 Accuracy: 75.000000 % Best Accuracy: 74.10714285714286 lr: 0.010000000000000002\n",
      "Epoch: 29 Accuracy: 73.660714 % Best Accuracy: 75.0 lr: 0.010000000000000002\n",
      "Epoch: 30 Accuracy: 74.107143 % Best Accuracy: 75.0 lr: 0.010000000000000002\n",
      "Epoch: 31 Accuracy: 73.214286 % Best Accuracy: 75.0 lr: 0.010000000000000002\n",
      "Epoch: 32 Accuracy: 74.553571 % Best Accuracy: 75.0 lr: 0.010000000000000002\n",
      "Epoch: 33 Accuracy: 74.107143 % Best Accuracy: 75.0 lr: 0.010000000000000002\n",
      "Epoch: 34 Accuracy: 72.767857 % Best Accuracy: 75.0 lr: 0.010000000000000002\n",
      "Epoch: 35 Accuracy: 74.553571 % Best Accuracy: 75.0 lr: 0.010000000000000002\n",
      "Epoch: 36 Accuracy: 75.892857 % Best Accuracy: 75.0 lr: 0.010000000000000002\n",
      "Epoch: 37 Accuracy: 75.892857 % Best Accuracy: 75.89285714285714 lr: 0.010000000000000002\n",
      "Epoch: 38 Accuracy: 77.232143 % Best Accuracy: 75.89285714285714 lr: 0.010000000000000002\n",
      "Epoch: 39 Accuracy: 76.785714 % Best Accuracy: 77.23214285714286 lr: 0.0010000000000000002\n",
      "Epoch: 40 Accuracy: 76.785714 % Best Accuracy: 77.23214285714286 lr: 0.0010000000000000002\n",
      "Epoch: 41 Accuracy: 76.785714 % Best Accuracy: 77.23214285714286 lr: 0.0010000000000000002\n",
      "Epoch: 42 Accuracy: 76.339286 % Best Accuracy: 77.23214285714286 lr: 0.0010000000000000002\n",
      "Epoch: 43 Accuracy: 77.678571 % Best Accuracy: 77.23214285714286 lr: 0.0010000000000000002\n",
      "Epoch: 44 Accuracy: 77.232143 % Best Accuracy: 77.67857142857143 lr: 0.0010000000000000002\n",
      "Epoch: 45 Accuracy: 77.232143 % Best Accuracy: 77.67857142857143 lr: 0.0010000000000000002\n",
      "Epoch: 46 Accuracy: 76.785714 % Best Accuracy: 77.67857142857143 lr: 0.0010000000000000002\n",
      "Epoch: 47 Accuracy: 76.785714 % Best Accuracy: 77.67857142857143 lr: 0.0010000000000000002\n",
      "Epoch: 48 Accuracy: 76.339286 % Best Accuracy: 77.67857142857143 lr: 0.0010000000000000002\n",
      "Epoch: 49 Accuracy: 76.785714 % Best Accuracy: 77.67857142857143 lr: 0.0010000000000000002\n"
     ]
    }
   ],
   "source": [
    "!python3 train.py"
   ]
  },
  {
   "cell_type": "code",
   "execution_count": null,
   "metadata": {
    "colab": {
     "base_uri": "https://localhost:8080/"
    },
    "executionInfo": {
     "elapsed": 963525,
     "status": "ok",
     "timestamp": 1605180734163,
     "user": {
      "displayName": "bharat giddwani",
      "photoUrl": "https://lh3.googleusercontent.com/a-/AOh14Gjk5H1KIh8m4N5dPx0TrIfH4ASn21EVXxPGR7aIEQ=s64",
      "userId": "02039544511488355667"
     },
     "user_tz": -330
    },
    "id": "Qi2pAqAFnNVe",
    "outputId": "c4f9fd77-0a89-4868-9b4b-1caa8710b096"
   },
   "outputs": [
    {
     "name": "stdout",
     "output_type": "stream",
     "text": [
      "To train and eval on climate dataset......\n",
      "==> Building model.. lsce/1pc_resnet50\n",
      "Epoch: 0 Accuracy: 21.428571 % Best Accuracy: 0 lr: 0.1\n",
      "Epoch: 1 Accuracy: 34.821429 % Best Accuracy: 21.428571428571427 lr: 0.1\n",
      "Epoch: 2 Accuracy: 54.910714 % Best Accuracy: 34.82142857142857 lr: 0.1\n",
      "Epoch: 3 Accuracy: 39.732143 % Best Accuracy: 54.910714285714285 lr: 0.1\n",
      "Epoch: 4 Accuracy: 52.232143 % Best Accuracy: 54.910714285714285 lr: 0.1\n",
      "Epoch: 5 Accuracy: 39.285714 % Best Accuracy: 54.910714285714285 lr: 0.1\n",
      "Epoch: 6 Accuracy: 46.875000 % Best Accuracy: 54.910714285714285 lr: 0.1\n",
      "Epoch: 7 Accuracy: 53.125000 % Best Accuracy: 54.910714285714285 lr: 0.1\n",
      "Epoch: 8 Accuracy: 57.142857 % Best Accuracy: 54.910714285714285 lr: 0.1\n",
      "Epoch: 9 Accuracy: 69.642857 % Best Accuracy: 57.142857142857146 lr: 0.1\n",
      "Epoch: 10 Accuracy: 74.107143 % Best Accuracy: 69.64285714285714 lr: 0.1\n",
      "Epoch: 11 Accuracy: 68.750000 % Best Accuracy: 74.10714285714286 lr: 0.1\n",
      "Epoch: 12 Accuracy: 66.517857 % Best Accuracy: 74.10714285714286 lr: 0.1\n",
      "Epoch: 13 Accuracy: 71.875000 % Best Accuracy: 74.10714285714286 lr: 0.1\n",
      "Epoch: 14 Accuracy: 75.000000 % Best Accuracy: 74.10714285714286 lr: 0.1\n",
      "Epoch: 15 Accuracy: 70.535714 % Best Accuracy: 75.0 lr: 0.1\n",
      "Epoch: 16 Accuracy: 67.857143 % Best Accuracy: 75.0 lr: 0.1\n",
      "Epoch: 17 Accuracy: 70.982143 % Best Accuracy: 75.0 lr: 0.1\n",
      "Epoch: 18 Accuracy: 73.214286 % Best Accuracy: 75.0 lr: 0.1\n",
      "Epoch: 19 Accuracy: 75.000000 % Best Accuracy: 75.0 lr: 0.010000000000000002\n",
      "Epoch: 20 Accuracy: 75.446429 % Best Accuracy: 75.0 lr: 0.010000000000000002\n",
      "Epoch: 21 Accuracy: 75.892857 % Best Accuracy: 75.44642857142857 lr: 0.010000000000000002\n",
      "Epoch: 22 Accuracy: 75.446429 % Best Accuracy: 75.89285714285714 lr: 0.010000000000000002\n",
      "Epoch: 23 Accuracy: 75.446429 % Best Accuracy: 75.89285714285714 lr: 0.010000000000000002\n",
      "Epoch: 24 Accuracy: 75.000000 % Best Accuracy: 75.89285714285714 lr: 0.010000000000000002\n",
      "Epoch: 25 Accuracy: 76.785714 % Best Accuracy: 75.89285714285714 lr: 0.010000000000000002\n",
      "Epoch: 27 Accuracy: 77.232143 % Best Accuracy: 76.78571428571429 lr: 0.010000000000000002\n",
      "Epoch: 28 Accuracy: 77.678571 % Best Accuracy: 77.23214285714286 lr: 0.010000000000000002\n",
      "Epoch: 29 Accuracy: 75.000000 % Best Accuracy: 77.67857142857143 lr: 0.010000000000000002\n",
      "Epoch: 30 Accuracy: 78.125000 % Best Accuracy: 77.67857142857143 lr: 0.010000000000000002\n",
      "Epoch: 31 Accuracy: 77.678571 % Best Accuracy: 78.125 lr: 0.010000000000000002\n",
      "Epoch: 32 Accuracy: 74.107143 % Best Accuracy: 78.125 lr: 0.010000000000000002\n",
      "Epoch: 33 Accuracy: 75.892857 % Best Accuracy: 78.125 lr: 0.010000000000000002\n",
      "Epoch: 34 Accuracy: 76.785714 % Best Accuracy: 78.125 lr: 0.010000000000000002\n",
      "Epoch: 35 Accuracy: 75.892857 % Best Accuracy: 78.125 lr: 0.010000000000000002\n",
      "Epoch: 36 Accuracy: 77.232143 % Best Accuracy: 78.125 lr: 0.010000000000000002\n",
      "Epoch: 37 Accuracy: 78.125000 % Best Accuracy: 78.125 lr: 0.010000000000000002\n",
      "Epoch: 38 Accuracy: 77.678571 % Best Accuracy: 78.125 lr: 0.010000000000000002\n",
      "Epoch: 39 Accuracy: 77.232143 % Best Accuracy: 78.125 lr: 0.0010000000000000002\n",
      "Epoch: 40 Accuracy: 76.785714 % Best Accuracy: 78.125 lr: 0.0010000000000000002\n",
      "Epoch: 41 Accuracy: 77.678571 % Best Accuracy: 78.125 lr: 0.0010000000000000002\n",
      "Epoch: 42 Accuracy: 78.571429 % Best Accuracy: 78.125 lr: 0.0010000000000000002\n",
      "Epoch: 43 Accuracy: 77.678571 % Best Accuracy: 78.57142857142857 lr: 0.0010000000000000002\n",
      "Epoch: 44 Accuracy: 78.125000 % Best Accuracy: 78.57142857142857 lr: 0.0010000000000000002\n",
      "Epoch: 45 Accuracy: 78.125000 % Best Accuracy: 78.57142857142857 lr: 0.0010000000000000002\n",
      "Epoch: 46 Accuracy: 77.232143 % Best Accuracy: 78.57142857142857 lr: 0.0010000000000000002\n",
      "Epoch: 47 Accuracy: 77.678571 % Best Accuracy: 78.57142857142857 lr: 0.0010000000000000002\n",
      "Epoch: 48 Accuracy: 76.785714 % Best Accuracy: 78.57142857142857 lr: 0.0010000000000000002\n",
      "Epoch: 49 Accuracy: 77.678571 % Best Accuracy: 78.57142857142857 lr: 0.0010000000000000002\n"
     ]
    }
   ],
   "source": [
    "! python3 train_pc.py"
   ]
  },
  {
   "cell_type": "code",
   "execution_count": null,
   "metadata": {
    "id": "l4LCWU0HPpvK"
   },
   "outputs": [],
   "source": []
  }
 ],
 "metadata": {
  "accelerator": "GPU",
  "colab": {
   "authorship_tag": "ABX9TyNNBcucP4K3sRUohgJ8096I",
   "collapsed_sections": [],
   "mount_file_id": "1s4DKMx4KulzmMq-0zp3rBaIEGuV3qg9I",
   "name": "main.ipynb",
   "provenance": []
  },
  "kernelspec": {
   "display_name": "Python 3",
   "language": "python",
   "name": "python3"
  },
  "language_info": {
   "codemirror_mode": {
    "name": "ipython",
    "version": 3
   },
   "file_extension": ".py",
   "mimetype": "text/x-python",
   "name": "python",
   "nbconvert_exporter": "python",
   "pygments_lexer": "ipython3",
   "version": "3.7.4"
  }
 },
 "nbformat": 4,
 "nbformat_minor": 4
}
